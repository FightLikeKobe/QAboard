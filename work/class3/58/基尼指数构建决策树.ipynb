{
 "cells": [
  {
   "cell_type": "code",
   "execution_count": 2,
   "metadata": {},
   "outputs": [],
   "source": [
    "import math\n",
    "import numpy as np\n",
    "import pandas as pd\n",
    "import matplotlib.pyplot as plt\n",
    "\n",
    "from math import log\n",
    "from collections import Counter"
   ]
  },
  {
   "cell_type": "code",
   "execution_count": 3,
   "metadata": {},
   "outputs": [],
   "source": [
    "datasets = [['青年', '否', '否', '一般', '否'],\n",
    "            ['青年', '否', '否', '好', '否'],\n",
    "            ['青年', '是', '否', '好', '是'],\n",
    "            ['青年', '是', '是', '一般', '是'],\n",
    "            ['青年', '否', '否', '一般', '否'],\n",
    "            ['中年', '否', '否', '一般', '否'],\n",
    "            ['中年', '否', '否', '好', '否'],\n",
    "            ['中年', '是', '是', '好', '是'],\n",
    "            ['中年', '否', '是', '非常好', '是'],\n",
    "            ['中年', '否', '是', '非常好', '是'],\n",
    "            ['老年', '否', '是', '非常好', '是'],\n",
    "            ['老年', '否', '是', '好', '是'],\n",
    "            ['老年', '是', '否', '好', '是'],\n",
    "            ['老年', '是', '否', '非常好', '是'],\n",
    "            ['老年', '否', '否', '一般', '否'],\n",
    "            ]\n",
    "# 给出数据集的列名称\n",
    "labels = [u'年龄', u'有工作', u'有自己的房子', u'信贷情况', u'类别']"
   ]
  },
  {
   "cell_type": "code",
   "execution_count": 4,
   "metadata": {},
   "outputs": [
    {
     "data": {
      "text/html": [
       "<div>\n",
       "<style scoped>\n",
       "    .dataframe tbody tr th:only-of-type {\n",
       "        vertical-align: middle;\n",
       "    }\n",
       "\n",
       "    .dataframe tbody tr th {\n",
       "        vertical-align: top;\n",
       "    }\n",
       "\n",
       "    .dataframe thead th {\n",
       "        text-align: right;\n",
       "    }\n",
       "</style>\n",
       "<table border=\"1\" class=\"dataframe\">\n",
       "  <thead>\n",
       "    <tr style=\"text-align: right;\">\n",
       "      <th></th>\n",
       "      <th>年龄</th>\n",
       "      <th>有工作</th>\n",
       "      <th>有自己的房子</th>\n",
       "      <th>信贷情况</th>\n",
       "      <th>类别</th>\n",
       "    </tr>\n",
       "  </thead>\n",
       "  <tbody>\n",
       "    <tr>\n",
       "      <th>0</th>\n",
       "      <td>青年</td>\n",
       "      <td>否</td>\n",
       "      <td>否</td>\n",
       "      <td>一般</td>\n",
       "      <td>否</td>\n",
       "    </tr>\n",
       "    <tr>\n",
       "      <th>1</th>\n",
       "      <td>青年</td>\n",
       "      <td>否</td>\n",
       "      <td>否</td>\n",
       "      <td>好</td>\n",
       "      <td>否</td>\n",
       "    </tr>\n",
       "    <tr>\n",
       "      <th>2</th>\n",
       "      <td>青年</td>\n",
       "      <td>是</td>\n",
       "      <td>否</td>\n",
       "      <td>好</td>\n",
       "      <td>是</td>\n",
       "    </tr>\n",
       "    <tr>\n",
       "      <th>3</th>\n",
       "      <td>青年</td>\n",
       "      <td>是</td>\n",
       "      <td>是</td>\n",
       "      <td>一般</td>\n",
       "      <td>是</td>\n",
       "    </tr>\n",
       "    <tr>\n",
       "      <th>4</th>\n",
       "      <td>青年</td>\n",
       "      <td>否</td>\n",
       "      <td>否</td>\n",
       "      <td>一般</td>\n",
       "      <td>否</td>\n",
       "    </tr>\n",
       "  </tbody>\n",
       "</table>\n",
       "</div>"
      ],
      "text/plain": [
       "   年龄 有工作 有自己的房子 信贷情况 类别\n",
       "0  青年   否      否   一般  否\n",
       "1  青年   否      否    好  否\n",
       "2  青年   是      否    好  是\n",
       "3  青年   是      是   一般  是\n",
       "4  青年   否      否   一般  否"
      ]
     },
     "execution_count": 4,
     "metadata": {},
     "output_type": "execute_result"
    }
   ],
   "source": [
    "train_data = pd.DataFrame(datasets,columns=labels)\n",
    "train_data.head()"
   ]
  },
  {
   "cell_type": "code",
   "execution_count": 6,
   "metadata": {},
   "outputs": [],
   "source": [
    "class Node:\n",
    "    def __init__(self,root=True,label=None,feature_name=None,feature=None):\n",
    "        self.root = root\n",
    "        self.label = label\n",
    "        self.feature_name = feature_name\n",
    "        self.feature = feature\n",
    "        self.tree = {}\n",
    "        self.result = {\n",
    "            'label': self.label,\n",
    "            'feature': self.feature,\n",
    "            'tree': self.tree\n",
    "        }\n",
    "        \n",
    "    def __repr__(self):\n",
    "        return '{result}'.format(result = self.result)\n",
    "    \n",
    "    def add_node(self,val,node):\n",
    "        self.tree[val] = node\n",
    "    \n",
    "    def predict(self,features):\n",
    "        if self.root is True:\n",
    "            return self.label\n",
    "        return self.tree[features[self.feature]].predict(features)"
   ]
  },
  {
   "cell_type": "code",
   "execution_count": 15,
   "metadata": {},
   "outputs": [],
   "source": [
    "class DTree:\n",
    "    def __init__(self,epsilon=0.1):\n",
    "        self.epsilon = epsilon\n",
    "        self._tree = {}\n",
    "        \n",
    "    @staticmethod\n",
    "    def calc_jini(dataframe,c=-1):\n",
    "        target = dataframe.iloc[:,c]\n",
    "        data_length = len(target)\n",
    "        labels = Counter(target)\n",
    "        ent = 1-sum([np.power((p/data_length),2) for p in list(labels.values())])\n",
    "        return ent\n",
    "    \n",
    "    def cond_jini(self,dataframe,index=0):\n",
    "        data_length = len(dataframe)\n",
    "        feature_set = {}\n",
    "        data_group = dataframe.groupby(dataframe.iloc[:,index])\n",
    "        for group in data_group:\n",
    "            key = group[0]\n",
    "            val = group[1]\n",
    "            feature_set[key] = val\n",
    "            \n",
    "        cond_jini = sum([(len(p)/data_length)*self.calc_jini(p,-1) for p in feature_set.values()])\n",
    "        return cond_jini\n",
    "    \n",
    "    @staticmethod\n",
    "    def info_jini(jini,cond_jini):\n",
    "        return jini - cond_jini\n",
    "    \n",
    "    def info_gain_jini(self,dataframe):\n",
    "        count = dataframe.shape[1] - 1\n",
    "        ent = self.calc_jini(dataframe)\n",
    "        best_feature = []\n",
    "        for c in range(count):\n",
    "            c_info_jini = self.info_jini(self.calc_jini(dataframe,-1),self.cond_jini(dataframe,index=c))\n",
    "            best_feature.append((c,c_info_jini))\n",
    "        best_ = max(best_feature,key = lambda x: x[-1])\n",
    "        return best_\n",
    "    \n",
    "    def train(self,train_data):\n",
    "        y_train,features = train_data.iloc[:,-1],list(train_data.columns)[:-1]\n",
    "        \n",
    "        if len(y_train.value_counts()) == 1:\n",
    "            return Node(root=True,label=y_train.iloc[0])\n",
    "        \n",
    "        if len(features) == 0:\n",
    "            return Node(root=True,label=y_train.value_counts.sort_values(ascending=False).index[0])\n",
    "        \n",
    "        max_feature,max_info_gain = self.info_gain_jini(train_data)\n",
    "        max_feature_name = features[max_feature]\n",
    "        if max_info_gain < self.epsilon:\n",
    "            return Node(root=True,label=y_train.value_counts.sort_values(ascending=False).index[0])\n",
    "        \n",
    "        node_tree = Node(root=False,feature_name=max_feature_name,feature=max_feature)\n",
    "        feature_list = train_data[max_feature_name].value_counts().index\n",
    "        for f in feature_list:\n",
    "            sub_train_df = train_data.loc[train_data[max_feature_name]==f].drop(max_feature_name,axis=1)\n",
    "            sub_tree = self.train(sub_train_df)\n",
    "            node_tree.add_node(f,sub_tree)\n",
    "        return node_tree\n",
    "    \n",
    "    def fit(self,train_data):\n",
    "        self._tree = self.train(train_data)\n",
    "        return self._tree\n",
    "    \n",
    "    def predict(self,X_test):\n",
    "        return self._tree.predict(X_test)\n",
    "        "
   ]
  },
  {
   "cell_type": "code",
   "execution_count": 16,
   "metadata": {},
   "outputs": [
    {
     "name": "stdout",
     "output_type": "stream",
     "text": [
      "{'label': None, 'feature': 2, 'tree': {'否': {'label': None, 'feature': 1, 'tree': {'否': {'label': '否', 'feature': None, 'tree': {}}, '是': {'label': '是', 'feature': None, 'tree': {}}}}, '是': {'label': '是', 'feature': None, 'tree': {}}}}\n"
     ]
    }
   ],
   "source": [
    "dt = DTree()\n",
    "tree = dt.fit(train_data)\n",
    "\n",
    "print(tree)"
   ]
  },
  {
   "cell_type": "code",
   "execution_count": 17,
   "metadata": {},
   "outputs": [
    {
     "data": {
      "text/plain": [
       "'否'"
      ]
     },
     "execution_count": 17,
     "metadata": {},
     "output_type": "execute_result"
    }
   ],
   "source": [
    "dt.predict(['老年','否','否','一般'])"
   ]
  },
  {
   "cell_type": "code",
   "execution_count": null,
   "metadata": {},
   "outputs": [],
   "source": []
  }
 ],
 "metadata": {
  "kernelspec": {
   "display_name": "Python 3",
   "language": "python",
   "name": "python3"
  },
  "language_info": {
   "codemirror_mode": {
    "name": "ipython",
    "version": 3
   },
   "file_extension": ".py",
   "mimetype": "text/x-python",
   "name": "python",
   "nbconvert_exporter": "python",
   "pygments_lexer": "ipython3",
   "version": "3.7.6"
  }
 },
 "nbformat": 4,
 "nbformat_minor": 4
}
